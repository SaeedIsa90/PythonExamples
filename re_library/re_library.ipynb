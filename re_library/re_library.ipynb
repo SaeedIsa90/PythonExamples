{
 "cells": [
  {
   "cell_type": "markdown",
   "id": "velvet-terry",
   "metadata": {},
   "source": [
    "# Regular Expressions - re library"
   ]
  },
  {
   "cell_type": "code",
   "execution_count": 1,
   "id": "neutral-dover",
   "metadata": {},
   "outputs": [],
   "source": [
    "import re"
   ]
  },
  {
   "cell_type": "markdown",
   "id": "lasting-withdrawal",
   "metadata": {},
   "source": [
    "## re useful functions\n",
    "\n",
    "*  findall ==> Returns a list containing all matches\n",
    "*  search ==> Returns a *Match object* if there is a match anywhere in the string\n",
    "    *  Match object - homework :)\n",
    "*  split ==> Returns a list where the string has been split at each match\n",
    "*  match ==>  Returns a *Match object* if there is a match, otherwise None object"
   ]
  },
  {
   "cell_type": "markdown",
   "id": "golden-sheep",
   "metadata": {},
   "source": [
    "## Simple and Basic pattern\n",
    "\n",
    "### Ordinary characters"
   ]
  },
  {
   "cell_type": "code",
   "execution_count": null,
   "id": "international-terminology",
   "metadata": {},
   "outputs": [],
   "source": [
    "txt = 'Saeed'\n",
    "pattern = 'Saeed'\n",
    "if re.match(pattern, txt):\n",
    "    print('Yes!!! match')\n",
    "else:\n",
    "    print('Noo!!! does not match')"
   ]
  },
  {
   "cell_type": "markdown",
   "id": "mighty-behalf",
   "metadata": {},
   "source": [
    "## Special Characters"
   ]
  },
  {
   "cell_type": "markdown",
   "id": "verified-pipeline",
   "metadata": {},
   "source": [
    "## . \n",
    "##### A period, Matches **any single** character except the newline character"
   ]
  },
  {
   "cell_type": "code",
   "execution_count": null,
   "id": "stone-zambia",
   "metadata": {},
   "outputs": [],
   "source": [
    "txt = \"Saeed\"\n",
    "pattern = \"S.e.d\"\n",
    "m = re.findall(pattern, txt)\n",
    "print(m)"
   ]
  },
  {
   "cell_type": "markdown",
   "id": "smart-firewall",
   "metadata": {},
   "source": [
    "***\n",
    "## ^ \n",
    "##### A caret, Matches the **start** of the string."
   ]
  },
  {
   "cell_type": "code",
   "execution_count": null,
   "id": "serial-mention",
   "metadata": {},
   "outputs": [],
   "source": [
    "txt = \"Saeed loves programming\"\n",
    "pattern = \"^Saeed\"\n",
    "m = re.findall(pattern, txt)\n",
    "print(m)"
   ]
  },
  {
   "cell_type": "code",
   "execution_count": null,
   "id": "metallic-antique",
   "metadata": {},
   "outputs": [],
   "source": [
    "# Won't work\n",
    "txt = \"Saeed loves programming\"\n",
    "pattern = \"^loves\" \n",
    "m = re.findall(pattern, txt)\n",
    "print(m)"
   ]
  },
  {
   "cell_type": "markdown",
   "id": "amazing-pressing",
   "metadata": {},
   "source": [
    "***\n",
    "## $ \n",
    "##### Matches the end of string"
   ]
  },
  {
   "cell_type": "code",
   "execution_count": null,
   "id": "mental-surprise",
   "metadata": {},
   "outputs": [],
   "source": [
    "txt = \"Saeed loves programming\"\n",
    "pattern = \"programming$\" \n",
    "m = re.findall(pattern, txt)\n",
    "print(m)"
   ]
  },
  {
   "cell_type": "code",
   "execution_count": null,
   "id": "innovative-cambodia",
   "metadata": {},
   "outputs": [],
   "source": [
    "txt = \"Saeed loves programming\"\n",
    "pattern = \"ing$\"\n",
    "m = re.findall(pattern, txt)\n",
    "print(m)"
   ]
  },
  {
   "cell_type": "code",
   "execution_count": null,
   "id": "turned-moscow",
   "metadata": {},
   "outputs": [],
   "source": [
    "txt = \"Saeed loves programming\"\n",
    "pattern = \"Saeed$\" \n",
    "m = re.findall(pattern, txt)\n",
    "print(m)"
   ]
  },
  {
   "cell_type": "markdown",
   "id": "smoking-monroe",
   "metadata": {},
   "source": [
    "***\n",
    "## [19bG] \n",
    "##### Matches 1 or 9 or b or G\n",
    "## [a-zA-Z0-9]\n",
    "##### Matches any letter from (a to z) or (A to Z) or (0 to 9)."
   ]
  },
  {
   "cell_type": "code",
   "execution_count": null,
   "id": "packed-eating",
   "metadata": {},
   "outputs": [],
   "source": [
    "txt = \"Saeed is 30 years old\"\n",
    "pattern = \"[S3of]\" \n",
    "m = re.findall(pattern, txt)\n",
    "print(m)"
   ]
  },
  {
   "cell_type": "code",
   "execution_count": null,
   "id": "nervous-railway",
   "metadata": {},
   "outputs": [],
   "source": [
    "txt = \"Saeed is 30 years old\"\n",
    "pattern = \"[1-9]\" \n",
    "m = re.findall(pattern, txt)\n",
    "print(m)"
   ]
  },
  {
   "cell_type": "code",
   "execution_count": null,
   "id": "failing-municipality",
   "metadata": {},
   "outputs": [],
   "source": [
    "txt = \"Saeed is 30 years old\"\n",
    "pattern = \"[a-f0-4A-T]aeed\" \n",
    "m = re.findall(pattern, txt)\n",
    "print(m)"
   ]
  },
  {
   "cell_type": "markdown",
   "id": "average-snapshot",
   "metadata": {},
   "source": [
    "## using caret ^ in [ ] will look for complementary set"
   ]
  },
  {
   "cell_type": "code",
   "execution_count": null,
   "id": "cellular-bankruptcy",
   "metadata": {},
   "outputs": [],
   "source": [
    "txt = \"4 years\"\n",
    "pattern = \"[^9] years\" \n",
    "m = re.findall(pattern, txt)\n",
    "print(m)"
   ]
  },
  {
   "cell_type": "code",
   "execution_count": null,
   "id": "polyphonic-battlefield",
   "metadata": {},
   "outputs": [],
   "source": [
    "txt = \"4 years\"\n",
    "pattern = \"[^4] years\" \n",
    "m = re.findall(pattern, txt)\n",
    "print(m)"
   ]
  },
  {
   "cell_type": "markdown",
   "id": "comic-large",
   "metadata": {},
   "source": [
    "***\n",
    "## \\ \n",
    "#####  Backslash - 2 options\n",
    "* Option1: special characters, such as (\\t, \\s, ...)\n",
    "* Option2: not special character, treated like any other character or removes special meaning (\\\\\\s, \\\\\\t, ...)"
   ]
  },
  {
   "cell_type": "code",
   "execution_count": null,
   "id": "central-witness",
   "metadata": {},
   "outputs": [],
   "source": [
    "# Option 1 - treating \\ with special charachter (\\s mean space)\n",
    "txt = \"Subscribe saeed channel\"\n",
    "pattern = \"Subscribe\\saeed\"  \n",
    "m = re.findall(pattern, txt)\n",
    "print(m)\n"
   ]
  },
  {
   "cell_type": "code",
   "execution_count": null,
   "id": "super-costs",
   "metadata": {},
   "outputs": [],
   "source": [
    "txt = \"Subscribe saeed channel\"\n",
    "pattern = \"Subscribe\\ssaeed\"  \n",
    "m = re.findall(pattern, txt)\n",
    "print(m)"
   ]
  },
  {
   "cell_type": "code",
   "execution_count": null,
   "id": "inside-investigator",
   "metadata": {},
   "outputs": [],
   "source": [
    "# Option 2 - treating \\ like any other character\n",
    "txt = \"Subscribe [s]aeed channel\"\n",
    "pattern = \"Subscribe \\[s\\]aeed\"\n",
    "m = re.findall(pattern, txt)\n",
    "print(m)"
   ]
  },
  {
   "cell_type": "markdown",
   "id": "composite-debate",
   "metadata": {},
   "source": [
    "***\n",
    "## more special characters\n",
    "* \\t - Matches tab\n",
    "* \\n - Matches newline\n",
    "* \\A - Matches only at the start of the string\n",
    "* \\Z - Matches only at the end of the string\n"
   ]
  },
  {
   "cell_type": "code",
   "execution_count": null,
   "id": "unauthorized-grave",
   "metadata": {},
   "outputs": [],
   "source": [
    "# reminder ^ sign \n",
    "txt = \"Saeed loves programming\"\n",
    "pattern = \"\\ASaeed\" \n",
    "m = re.findall(pattern, txt)\n",
    "print(m)"
   ]
  },
  {
   "cell_type": "code",
   "execution_count": null,
   "id": "median-arlington",
   "metadata": {},
   "outputs": [],
   "source": [
    "# reminder $ sign\n",
    "txt = \"Saeed loves programming\"\n",
    "pattern = \"ming\\Z\" \n",
    "m = re.findall(pattern, txt)\n",
    "print(m)"
   ]
  },
  {
   "cell_type": "markdown",
   "id": "architectural-county",
   "metadata": {},
   "source": [
    "***\n",
    "## Next video\n",
    "*  \\w, \\W, \\s, \\S, \\d, \\D, \n",
    "* Repetions: *, + , ?, {}\n",
    "* Examples\n",
    "***"
   ]
  },
  {
   "cell_type": "markdown",
   "id": "light-tuner",
   "metadata": {},
   "source": [
    "***\n",
    "## \\w & \\W\n",
    "##### \\w: Matches any single letter, digit, or underscore\n",
    "##### \\W: Matches any character not part of \\w (complementary set)"
   ]
  },
  {
   "cell_type": "code",
   "execution_count": 2,
   "id": "alone-rhythm",
   "metadata": {},
   "outputs": [
    {
     "name": "stdout",
     "output_type": "stream",
     "text": [
      "['Saeed loves programming']\n"
     ]
    }
   ],
   "source": [
    "txt = \"Saeed loves programming\"\n",
    "pattern = \"Saeed loves \\wrogramming\" \n",
    "# similar to [0-9a-zA-Z_]\n",
    "m = re.findall(pattern, txt)\n",
    "print(m)"
   ]
  },
  {
   "cell_type": "code",
   "execution_count": 3,
   "id": "southeast-crowd",
   "metadata": {},
   "outputs": [
    {
     "name": "stdout",
     "output_type": "stream",
     "text": [
      "['Saeed loves %rogramming']\n"
     ]
    }
   ],
   "source": [
    "txt = \"Saeed loves %rogramming\"\n",
    "pattern = \"Saeed loves \\Wrogramming\" \n",
    "# similar to [^0-9a-zA-Z_]\n",
    "m = re.findall(pattern, txt)\n",
    "print(m)"
   ]
  },
  {
   "cell_type": "markdown",
   "id": "scenic-mountain",
   "metadata": {},
   "source": [
    "***\n",
    "## \\d & \\D\n",
    "##### \\d: Matches decimal digit 0-9\n",
    "##### \\D: Matches any character that is not a digit (complementary set)"
   ]
  },
  {
   "cell_type": "code",
   "execution_count": 4,
   "id": "balanced-spank",
   "metadata": {},
   "outputs": [
    {
     "name": "stdout",
     "output_type": "stream",
     "text": [
      "['4 years']\n"
     ]
    }
   ],
   "source": [
    "txt = \"4 years\"\n",
    "pattern = r\"\\d years\" \n",
    "# similar to [0-9]\n",
    "m = re.findall(pattern, txt)\n",
    "print(m)"
   ]
  },
  {
   "cell_type": "code",
   "execution_count": 6,
   "id": "julian-equilibrium",
   "metadata": {},
   "outputs": [
    {
     "name": "stdout",
     "output_type": "stream",
     "text": [
      "['% years']\n"
     ]
    }
   ],
   "source": [
    "txt = \"% years\" \n",
    "pattern = r\"\\D years\"\n",
    "# similar to [^0-9]\n",
    "m = re.findall(pattern, txt)\n",
    "print(m)"
   ]
  },
  {
   "cell_type": "markdown",
   "id": "simplified-actor",
   "metadata": {},
   "source": [
    "***\n",
    "## \\s & \\S\n",
    "##### \\s: Matches a single whitespace character like: space, newline, tab, return\n",
    "##### \\S: Matches any character that is not a single whitespace character (complementary set)"
   ]
  },
  {
   "cell_type": "code",
   "execution_count": 7,
   "id": "permanent-badge",
   "metadata": {},
   "outputs": [
    {
     "name": "stdout",
     "output_type": "stream",
     "text": [
      "['Saeed loves']\n"
     ]
    }
   ],
   "source": [
    "txt = \"Saeed loves programming\"\n",
    "pattern = \"Saeed\\sloves\" \n",
    "m = re.findall(pattern, txt)\n",
    "print(m)"
   ]
  },
  {
   "cell_type": "code",
   "execution_count": 10,
   "id": "lucky-directive",
   "metadata": {},
   "outputs": [
    {
     "name": "stdout",
     "output_type": "stream",
     "text": [
      "['Saeed9loves']\n"
     ]
    }
   ],
   "source": [
    "txt = \"Saeed-loves programming\"\n",
    "pattern = \"Saeed\\Sloves\" \n",
    "m = re.findall(pattern, txt)\n",
    "print(m)"
   ]
  },
  {
   "cell_type": "markdown",
   "id": "offshore-seeker",
   "metadata": {},
   "source": [
    "## Repeitions"
   ]
  },
  {
   "cell_type": "markdown",
   "id": "spoken-error",
   "metadata": {},
   "source": [
    "## +\n",
    "##### Checks if the preceding character appears **one or more** times starting from that position"
   ]
  },
  {
   "cell_type": "code",
   "execution_count": 11,
   "id": "outdoor-phone",
   "metadata": {},
   "outputs": [
    {
     "name": "stdout",
     "output_type": "stream",
     "text": [
      "['programmmmmmmming']\n"
     ]
    }
   ],
   "source": [
    "txt = \"programmmmmmmming\"\n",
    "pattern = \"program+ing\" \n",
    "m = re.findall(pattern, txt)\n",
    "print(m)"
   ]
  },
  {
   "cell_type": "code",
   "execution_count": 12,
   "id": "liquid-rough",
   "metadata": {},
   "outputs": [
    {
     "name": "stdout",
     "output_type": "stream",
     "text": [
      "['programmmmmmmming']\n"
     ]
    }
   ],
   "source": [
    "# will this work ?\n",
    "txt = \"programmmmmmmming\"\n",
    "pattern = \"progra\\w+ing\"\n",
    "m = re.findall(pattern, txt)\n",
    "print(m)"
   ]
  },
  {
   "cell_type": "code",
   "execution_count": 13,
   "id": "streaming-aruba",
   "metadata": {},
   "outputs": [
    {
     "name": "stdout",
     "output_type": "stream",
     "text": [
      "['programmmmmmmming']\n"
     ]
    }
   ],
   "source": [
    "# will this work ?\n",
    "txt = \"programmmmmmmming\"\n",
    "pattern = \"progra[a-z]+ing\" \n",
    "m = re.findall(pattern, txt)\n",
    "print(m)"
   ]
  },
  {
   "cell_type": "code",
   "execution_count": 14,
   "id": "junior-ensemble",
   "metadata": {},
   "outputs": [
    {
     "name": "stdout",
     "output_type": "stream",
     "text": [
      "[]\n"
     ]
    }
   ],
   "source": [
    "# This will not work!\n",
    "txt = \"programmmmmmmming\"\n",
    "pattern = \"progras+ing\" \n",
    "m = re.findall(pattern, txt)\n",
    "print(m)"
   ]
  },
  {
   "cell_type": "markdown",
   "id": "solved-killing",
   "metadata": {},
   "source": [
    "## *\n",
    "##### Checks if the preceding character appears **zero or more** times starting from that position"
   ]
  },
  {
   "cell_type": "code",
   "execution_count": 15,
   "id": "forbidden-grace",
   "metadata": {},
   "outputs": [
    {
     "name": "stdout",
     "output_type": "stream",
     "text": [
      "['programmmmmmmming']\n"
     ]
    }
   ],
   "source": [
    "txt = \"programmmmmmmming\"\n",
    "pattern = \"program*ing\" \n",
    "m = re.findall(pattern, txt)\n",
    "print(m)"
   ]
  },
  {
   "cell_type": "code",
   "execution_count": 16,
   "id": "entitled-night",
   "metadata": {},
   "outputs": [
    {
     "name": "stdout",
     "output_type": "stream",
     "text": [
      "['programmmmmmmming']\n"
     ]
    }
   ],
   "source": [
    "txt = \"programmmmmmmming\"\n",
    "pattern = \"program*f*ing\" \n",
    "m = re.findall(pattern, txt)\n",
    "print(m)"
   ]
  },
  {
   "cell_type": "markdown",
   "id": "composite-glance",
   "metadata": {},
   "source": [
    "## ?\n",
    "##### Checks if the preceding character appears **exactly zero or one** time starting from that position."
   ]
  },
  {
   "cell_type": "code",
   "execution_count": 17,
   "id": "broadband-audience",
   "metadata": {},
   "outputs": [
    {
     "name": "stdout",
     "output_type": "stream",
     "text": [
      "['programming']\n"
     ]
    }
   ],
   "source": [
    "txt = \"programming\"\n",
    "pattern = \"programm?ing\" \n",
    "m = re.findall(pattern, txt)\n",
    "print(m)"
   ]
  },
  {
   "cell_type": "code",
   "execution_count": 18,
   "id": "colored-pencil",
   "metadata": {},
   "outputs": [
    {
     "name": "stdout",
     "output_type": "stream",
     "text": [
      "['programming']\n"
     ]
    }
   ],
   "source": [
    "txt = \"programming\"\n",
    "pattern = \"programmf?ing\" \n",
    "m = re.findall(pattern, txt)\n",
    "print(m)"
   ]
  },
  {
   "cell_type": "markdown",
   "id": "gorgeous-commitment",
   "metadata": {},
   "source": [
    "## {}\n",
    "#### {x} Repeat exactly x number of times.\n",
    "#### {x,} Repeat at least x times or more.\n",
    "#### {x, y} Repeat at least x times but no more than y times."
   ]
  },
  {
   "cell_type": "code",
   "execution_count": 19,
   "id": "relevant-johnson",
   "metadata": {},
   "outputs": [
    {
     "name": "stdout",
     "output_type": "stream",
     "text": [
      "['programmmmming']\n"
     ]
    }
   ],
   "source": [
    "txt = \"programmmmming\"\n",
    "pattern = \"programm{2,}ing\" \n",
    "m = re.findall(pattern, txt)\n",
    "print(m)"
   ]
  },
  {
   "cell_type": "markdown",
   "id": "fitting-intro",
   "metadata": {},
   "source": [
    "## Examples"
   ]
  },
  {
   "cell_type": "code",
   "execution_count": 20,
   "id": "married-brazil",
   "metadata": {},
   "outputs": [
    {
     "name": "stdout",
     "output_type": "stream",
     "text": [
      "['saeed.isa90@gmail.com']\n"
     ]
    }
   ],
   "source": [
    "txt = 'Please contact me at: saeed.isa90@gmail.com'\n",
    "pattern1 = '[a-zA-Z0-9\\.\\_]+@[a-zA-Z0-9]+.com'\n",
    "m = re.findall(pattern1, txt)\n",
    "print(m)"
   ]
  },
  {
   "cell_type": "code",
   "execution_count": 21,
   "id": "ranging-graph",
   "metadata": {},
   "outputs": [
    {
     "name": "stdout",
     "output_type": "stream",
     "text": [
      "['saeed.isa90@gmail.com']\n"
     ]
    }
   ],
   "source": [
    "txt = 'Please contact me at: saeed.isa90@gmail.com'\n",
    "pattern2 = '[\\w\\.]+@[\\w]+.com'\n",
    "m = re.findall(pattern2, txt)\n",
    "print(m)"
   ]
  },
  {
   "cell_type": "code",
   "execution_count": 22,
   "id": "pleasant-genre",
   "metadata": {},
   "outputs": [
    {
     "name": "stdout",
     "output_type": "stream",
     "text": [
      "['101010', '202020', '404040', '505050']\n"
     ]
    }
   ],
   "source": [
    "txt = '101010 202020 Saeed 404040 505050 Isa'\n",
    "pattern1 = '[0-9]+'\n",
    "m = re.findall(pattern1, txt)\n",
    "print(m)"
   ]
  },
  {
   "cell_type": "code",
   "execution_count": 23,
   "id": "welcome-confusion",
   "metadata": {},
   "outputs": [
    {
     "name": "stdout",
     "output_type": "stream",
     "text": [
      "['101010', '202020', '404040', '505050']\n"
     ]
    }
   ],
   "source": [
    "txt = '101010 202020 Saeed 404040 505050 Isa'\n",
    "pattern2 = '[\\d]+'\n",
    "m = re.findall(pattern2, txt)\n",
    "print(m)"
   ]
  }
 ],
 "metadata": {
  "kernelspec": {
   "display_name": "Python 3",
   "language": "python",
   "name": "python3"
  },
  "language_info": {
   "codemirror_mode": {
    "name": "ipython",
    "version": 3
   },
   "file_extension": ".py",
   "mimetype": "text/x-python",
   "name": "python",
   "nbconvert_exporter": "python",
   "pygments_lexer": "ipython3",
   "version": "3.8.3"
  }
 },
 "nbformat": 4,
 "nbformat_minor": 5
}
