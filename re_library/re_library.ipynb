{
 "cells": [
  {
   "cell_type": "markdown",
   "id": "satisfactory-neutral",
   "metadata": {},
   "source": [
    "# Regular Expressions - re library"
   ]
  },
  {
   "cell_type": "code",
   "execution_count": 1,
   "id": "modular-coach",
   "metadata": {},
   "outputs": [],
   "source": [
    "import re"
   ]
  },
  {
   "cell_type": "markdown",
   "id": "welcome-saturn",
   "metadata": {},
   "source": [
    "## re useful functions\n",
    "\n",
    "*  findall ==> Returns a list containing all matches\n",
    "*  search ==> Returns a *Match object* if there is a match anywhere in the string\n",
    "    *  Match object - homework :)\n",
    "*  split ==> Returns a list where the string has been split at each match\n",
    "*  match ==>  Returns a *Match object* if there is a match, otherwise None object"
   ]
  },
  {
   "cell_type": "markdown",
   "id": "fabulous-finding",
   "metadata": {},
   "source": [
    "## Simple and Basic pattern\n",
    "\n",
    "### Ordinary characters"
   ]
  },
  {
   "cell_type": "code",
   "execution_count": 2,
   "id": "genuine-american",
   "metadata": {},
   "outputs": [
    {
     "name": "stdout",
     "output_type": "stream",
     "text": [
      "Yes!!! match\n"
     ]
    }
   ],
   "source": [
    "txt = 'Saeed'\n",
    "pattern = 'Saeed'\n",
    "if re.match(pattern, txt):\n",
    "    print('Yes!!! match')\n",
    "else:\n",
    "    print('Noo!!! does not match')"
   ]
  },
  {
   "cell_type": "markdown",
   "id": "convinced-affair",
   "metadata": {},
   "source": [
    "## Special Characters"
   ]
  },
  {
   "cell_type": "markdown",
   "id": "boolean-genealogy",
   "metadata": {},
   "source": [
    "## . \n",
    "##### A period, Matches **any single** character except the newline character"
   ]
  },
  {
   "cell_type": "code",
   "execution_count": 3,
   "id": "vietnamese-chapel",
   "metadata": {},
   "outputs": [
    {
     "name": "stdout",
     "output_type": "stream",
     "text": [
      "['Saeed']\n"
     ]
    }
   ],
   "source": [
    "txt = \"Saeed\"\n",
    "pattern = \"S.e.d\"\n",
    "m = re.findall(pattern, txt)\n",
    "print(m)"
   ]
  },
  {
   "cell_type": "markdown",
   "id": "outside-reading",
   "metadata": {},
   "source": [
    "***\n",
    "## ^ \n",
    "##### A caret, Matches the **start** of the string."
   ]
  },
  {
   "cell_type": "code",
   "execution_count": 4,
   "id": "legislative-treaty",
   "metadata": {},
   "outputs": [
    {
     "name": "stdout",
     "output_type": "stream",
     "text": [
      "['Saeed']\n"
     ]
    }
   ],
   "source": [
    "txt = \"Saeed loves programming\"\n",
    "pattern = \"^Saeed\"\n",
    "m = re.findall(pattern, txt)\n",
    "print(m)"
   ]
  },
  {
   "cell_type": "code",
   "execution_count": 5,
   "id": "established-projector",
   "metadata": {},
   "outputs": [
    {
     "name": "stdout",
     "output_type": "stream",
     "text": [
      "[]\n"
     ]
    }
   ],
   "source": [
    "# Won't work\n",
    "txt = \"Saeed loves programming\"\n",
    "pattern = \"^loves\" \n",
    "m = re.findall(pattern, txt)\n",
    "print(m)"
   ]
  },
  {
   "cell_type": "markdown",
   "id": "annual-drain",
   "metadata": {},
   "source": [
    "***\n",
    "## $ \n",
    "##### Matches the end of string"
   ]
  },
  {
   "cell_type": "code",
   "execution_count": 6,
   "id": "raising-disability",
   "metadata": {},
   "outputs": [
    {
     "name": "stdout",
     "output_type": "stream",
     "text": [
      "['programming']\n"
     ]
    }
   ],
   "source": [
    "txt = \"Saeed loves programming\"\n",
    "pattern = \"programming$\" \n",
    "m = re.findall(pattern, txt)\n",
    "print(m)"
   ]
  },
  {
   "cell_type": "code",
   "execution_count": 7,
   "id": "surface-communications",
   "metadata": {},
   "outputs": [
    {
     "name": "stdout",
     "output_type": "stream",
     "text": [
      "['ing']\n"
     ]
    }
   ],
   "source": [
    "txt = \"Saeed loves programming\"\n",
    "pattern = \"ing$\"\n",
    "m = re.findall(pattern, txt)\n",
    "print(m)"
   ]
  },
  {
   "cell_type": "code",
   "execution_count": 8,
   "id": "forward-gateway",
   "metadata": {},
   "outputs": [
    {
     "name": "stdout",
     "output_type": "stream",
     "text": [
      "[]\n"
     ]
    }
   ],
   "source": [
    "txt = \"Saeed loves programming\"\n",
    "pattern = \"Saeed$\" \n",
    "m = re.findall(pattern, txt)\n",
    "print(m)"
   ]
  },
  {
   "cell_type": "markdown",
   "id": "hybrid-illinois",
   "metadata": {},
   "source": [
    "***\n",
    "## [19bG] \n",
    "##### Matches 1 or 9 or b or G\n",
    "## [a-zA-Z0-9]\n",
    "##### Matches any letter from (a to z) or (A to Z) or (0 to 9)."
   ]
  },
  {
   "cell_type": "code",
   "execution_count": 9,
   "id": "wicked-meeting",
   "metadata": {},
   "outputs": [
    {
     "name": "stdout",
     "output_type": "stream",
     "text": [
      "['S', '3', 'o']\n"
     ]
    }
   ],
   "source": [
    "txt = \"Saeed is 30 years old\"\n",
    "pattern = \"[S3of]\" \n",
    "m = re.findall(pattern, txt)\n",
    "print(m)"
   ]
  },
  {
   "cell_type": "code",
   "execution_count": 10,
   "id": "endless-significance",
   "metadata": {},
   "outputs": [
    {
     "name": "stdout",
     "output_type": "stream",
     "text": [
      "['3']\n"
     ]
    }
   ],
   "source": [
    "txt = \"Saeed is 30 years old\"\n",
    "pattern = \"[1-9]\" \n",
    "m = re.findall(pattern, txt)\n",
    "print(m)"
   ]
  },
  {
   "cell_type": "code",
   "execution_count": 11,
   "id": "following-anime",
   "metadata": {},
   "outputs": [
    {
     "name": "stdout",
     "output_type": "stream",
     "text": [
      "['Saeed']\n"
     ]
    }
   ],
   "source": [
    "txt = \"Saeed is 30 years old\"\n",
    "pattern = \"[a-f0-4A-T]aeed\" \n",
    "m = re.findall(pattern, txt)\n",
    "print(m)"
   ]
  },
  {
   "cell_type": "markdown",
   "id": "adjusted-education",
   "metadata": {},
   "source": [
    "## using caret ^ in [ ] will look for complementary set"
   ]
  },
  {
   "cell_type": "code",
   "execution_count": 12,
   "id": "gentle-yeast",
   "metadata": {},
   "outputs": [
    {
     "name": "stdout",
     "output_type": "stream",
     "text": [
      "['4 years']\n"
     ]
    }
   ],
   "source": [
    "txt = \"4 years\"\n",
    "pattern = \"[^9] years\" \n",
    "m = re.findall(pattern, txt)\n",
    "print(m)"
   ]
  },
  {
   "cell_type": "code",
   "execution_count": 13,
   "id": "adopted-tract",
   "metadata": {},
   "outputs": [
    {
     "name": "stdout",
     "output_type": "stream",
     "text": [
      "[]\n"
     ]
    }
   ],
   "source": [
    "txt = \"4 years\"\n",
    "pattern = \"[^4] years\" \n",
    "m = re.findall(pattern, txt)\n",
    "print(m)"
   ]
  },
  {
   "cell_type": "markdown",
   "id": "nasty-yield",
   "metadata": {},
   "source": [
    "***\n",
    "## \\ \n",
    "#####  Backslash - 2 options\n",
    "* Option1: special characters, such as (\\t, \\s, ...)\n",
    "* Option2: not special character, treated like any other character or removes special meaning (\\\\\\s, \\\\\\t, ...)"
   ]
  },
  {
   "cell_type": "code",
   "execution_count": 14,
   "id": "outside-fellow",
   "metadata": {},
   "outputs": [
    {
     "name": "stdout",
     "output_type": "stream",
     "text": [
      "[]\n"
     ]
    }
   ],
   "source": [
    "# Option 1 - treating \\ with special charachter (\\s mean space)\n",
    "txt = \"Subscribe saeed channel\"\n",
    "pattern = \"Subscribe\\saeed\"  \n",
    "m = re.findall(pattern, txt)\n",
    "print(m)\n"
   ]
  },
  {
   "cell_type": "code",
   "execution_count": 15,
   "id": "detected-article",
   "metadata": {},
   "outputs": [
    {
     "name": "stdout",
     "output_type": "stream",
     "text": [
      "['Subscribe saeed']\n"
     ]
    }
   ],
   "source": [
    "txt = \"Subscribe saeed channel\"\n",
    "pattern = \"Subscribe\\ssaeed\"  \n",
    "m = re.findall(pattern, txt)\n",
    "print(m)"
   ]
  },
  {
   "cell_type": "code",
   "execution_count": 17,
   "id": "sunset-efficiency",
   "metadata": {},
   "outputs": [
    {
     "name": "stdout",
     "output_type": "stream",
     "text": [
      "['Subscribe [s]aeed']\n"
     ]
    }
   ],
   "source": [
    "# Option 2 - treating \\ like any other character\n",
    "txt = \"Subscribe [s]aeed channel\"\n",
    "pattern = \"Subscribe \\[s\\]aeed\"\n",
    "m = re.findall(pattern, txt)\n",
    "print(m)"
   ]
  },
  {
   "cell_type": "markdown",
   "id": "genuine-pollution",
   "metadata": {},
   "source": [
    "***\n",
    "## more special characters\n",
    "* \\t - Matches tab\n",
    "* \\n - Matches newline\n",
    "* \\A - Matches only at the start of the string\n",
    "* \\Z - Matches only at the end of the string\n"
   ]
  },
  {
   "cell_type": "code",
   "execution_count": 19,
   "id": "equivalent-sleep",
   "metadata": {},
   "outputs": [
    {
     "name": "stdout",
     "output_type": "stream",
     "text": [
      "['Saeed']\n"
     ]
    }
   ],
   "source": [
    "# reminder ^ sign \n",
    "txt = \"Saeed loves programming\"\n",
    "pattern = \"\\ASaeed\" \n",
    "m = re.findall(pattern, txt)\n",
    "print(m)"
   ]
  },
  {
   "cell_type": "code",
   "execution_count": 22,
   "id": "adaptive-matthew",
   "metadata": {},
   "outputs": [
    {
     "name": "stdout",
     "output_type": "stream",
     "text": [
      "['ming']\n"
     ]
    }
   ],
   "source": [
    "# reminder $ sign\n",
    "txt = \"Saeed loves programming\"\n",
    "pattern = \"ming\\Z\" \n",
    "m = re.findall(pattern, txt)\n",
    "print(m)"
   ]
  },
  {
   "cell_type": "markdown",
   "id": "floating-economy",
   "metadata": {},
   "source": [
    "***\n",
    "## Next video\n",
    "*  \\w, \\W, \\s, \\S, \\d, \\D, \n",
    "* Repetions: *, + , ?, {}\n",
    "* Examples\n",
    "***"
   ]
  },
  {
   "cell_type": "markdown",
   "id": "dimensional-vertical",
   "metadata": {},
   "source": [
    "***\n",
    "## \\w & \\W\n",
    "##### \\w: Matches any single letter, digit, or underscore\n",
    "##### \\W: Matches any character not part of \\w (complementary set)"
   ]
  },
  {
   "cell_type": "code",
   "execution_count": null,
   "id": "increasing-niger",
   "metadata": {},
   "outputs": [],
   "source": [
    "txt = \"Saeed loves programming\"\n",
    "pattern = \"Saeed loves \\wrogramming\" \n",
    "# similar to [0-9a-zA-Z]\n",
    "m = re.findall(pattern, txt)\n",
    "print(m)"
   ]
  },
  {
   "cell_type": "code",
   "execution_count": null,
   "id": "quiet-backup",
   "metadata": {},
   "outputs": [],
   "source": [
    "txt = \"Saeed loves %rogramming\"\n",
    "pattern = \"Saeed loves \\Wrogramming\" \n",
    "# similar to [^0-9a-zA-Z]\n",
    "m = re.findall(pattern, txt)\n",
    "print(m)"
   ]
  },
  {
   "cell_type": "markdown",
   "id": "dimensional-airport",
   "metadata": {},
   "source": [
    "***\n",
    "## \\d & \\D\n",
    "##### \\d: Matches decimal digit 0-9\n",
    "##### \\D: Matches any character that is not a digit (complementary set)"
   ]
  },
  {
   "cell_type": "code",
   "execution_count": null,
   "id": "static-hacker",
   "metadata": {},
   "outputs": [],
   "source": [
    "txt = \"4 years\"\n",
    "pattern = r\"\\d years\" \n",
    "# similar to [0-9]\n",
    "m = re.findall(pattern, txt)\n",
    "print(m)"
   ]
  },
  {
   "cell_type": "code",
   "execution_count": null,
   "id": "piano-conflict",
   "metadata": {},
   "outputs": [],
   "source": [
    "txt = \"f years\" \n",
    "pattern = r\"\\D years\"\n",
    "# similar to [^0-9]\n",
    "m = re.findall(pattern, txt)\n",
    "print(m)"
   ]
  },
  {
   "cell_type": "markdown",
   "id": "becoming-skill",
   "metadata": {},
   "source": [
    "***\n",
    "## \\s & \\S\n",
    "##### \\s: Matches a single whitespace character like: space, newline, tab, return\n",
    "##### \\S: Matches any character that is not a single whitespace character (complementary set)"
   ]
  },
  {
   "cell_type": "code",
   "execution_count": null,
   "id": "royal-optics",
   "metadata": {},
   "outputs": [],
   "source": [
    "txt = \"Saeed loves programming\"\n",
    "pattern = \"Saeed\\sloves\" \n",
    "m = re.findall(pattern, txt)\n",
    "print(m)"
   ]
  },
  {
   "cell_type": "code",
   "execution_count": null,
   "id": "regular-hanging",
   "metadata": {},
   "outputs": [],
   "source": [
    "txt = \"Saeed-loves programming\"\n",
    "pattern = \"Saeed\\Sloves\" \n",
    "m = re.findall(pattern, txt)\n",
    "print(m)"
   ]
  },
  {
   "cell_type": "markdown",
   "id": "missing-funeral",
   "metadata": {},
   "source": [
    "## Repeitions"
   ]
  },
  {
   "cell_type": "markdown",
   "id": "chubby-conditioning",
   "metadata": {},
   "source": [
    "## +\n",
    "##### Checks if the preceding character appears **one or more** times starting from that position"
   ]
  },
  {
   "cell_type": "code",
   "execution_count": null,
   "id": "induced-syndicate",
   "metadata": {},
   "outputs": [],
   "source": [
    "txt = \"programmmmmmmming\"\n",
    "pattern = \"program+ing\" \n",
    "m = re.findall(pattern, txt)\n",
    "print(m)"
   ]
  },
  {
   "cell_type": "code",
   "execution_count": null,
   "id": "banner-taste",
   "metadata": {},
   "outputs": [],
   "source": [
    "# will this work ?\n",
    "txt = \"programmmmmmmming\"\n",
    "pattern = \"progra\\w+ing\"\n",
    "pattern = \"progra[a-z]+ing\" \n",
    "m = re.findall(pattern, txt)\n",
    "print(m)"
   ]
  },
  {
   "cell_type": "code",
   "execution_count": null,
   "id": "moral-reality",
   "metadata": {},
   "outputs": [],
   "source": [
    "# will this work ?\n",
    "txt = \"programmmmmmmming\"\n",
    "pattern = \"progra[a-z]+ing\" \n",
    "m = re.findall(pattern, txt)\n",
    "print(m)"
   ]
  },
  {
   "cell_type": "markdown",
   "id": "integrated-malpractice",
   "metadata": {},
   "source": [
    "## *\n",
    "##### Checks if the preceding character appears **zero or more** times starting from that position"
   ]
  },
  {
   "cell_type": "code",
   "execution_count": null,
   "id": "matched-stopping",
   "metadata": {},
   "outputs": [],
   "source": [
    "txt = \"programmmmmmmming\"\n",
    "pattern = \"program*ing\" \n",
    "m = re.findall(pattern, txt)\n",
    "print(m)"
   ]
  },
  {
   "cell_type": "code",
   "execution_count": null,
   "id": "pharmaceutical-chair",
   "metadata": {},
   "outputs": [],
   "source": [
    "txt = \"programmmmmmmming\"\n",
    "pattern = \"program*f*ing\" \n",
    "m = re.findall(pattern, txt)\n",
    "print(m)"
   ]
  },
  {
   "cell_type": "markdown",
   "id": "graduate-annex",
   "metadata": {},
   "source": [
    "## ?\n",
    "##### Checks if the preceding character appears **exactly zero or one** time starting from that position."
   ]
  },
  {
   "cell_type": "code",
   "execution_count": null,
   "id": "focused-terrorist",
   "metadata": {},
   "outputs": [],
   "source": [
    "txt = \"programming\"\n",
    "pattern = \"programm?ing\" \n",
    "m = re.findall(pattern, txt)\n",
    "print(m)"
   ]
  },
  {
   "cell_type": "code",
   "execution_count": null,
   "id": "absolute-silly",
   "metadata": {},
   "outputs": [],
   "source": [
    "txt = \"programming\"\n",
    "pattern = \"programmf?ing\" \n",
    "m = re.findall(pattern, txt)\n",
    "print(m)"
   ]
  },
  {
   "cell_type": "markdown",
   "id": "brave-nebraska",
   "metadata": {},
   "source": [
    "## {}\n",
    "#### {x} Repeat exactly x number of times.\n",
    "#### {x,} Repeat at least x times or more.\n",
    "#### {x, y} Repeat at least x times but no more than y times."
   ]
  },
  {
   "cell_type": "code",
   "execution_count": null,
   "id": "greater-broad",
   "metadata": {},
   "outputs": [],
   "source": [
    "txt = \"programmmmming\"\n",
    "pattern = \"programm{2,}ing\" \n",
    "m = re.findall(pattern, txt)\n",
    "print(m)"
   ]
  },
  {
   "cell_type": "markdown",
   "id": "lightweight-deficit",
   "metadata": {},
   "source": [
    "## Examples"
   ]
  }
 ],
 "metadata": {
  "kernelspec": {
   "display_name": "Python 3",
   "language": "python",
   "name": "python3"
  },
  "language_info": {
   "codemirror_mode": {
    "name": "ipython",
    "version": 3
   },
   "file_extension": ".py",
   "mimetype": "text/x-python",
   "name": "python",
   "nbconvert_exporter": "python",
   "pygments_lexer": "ipython3",
   "version": "3.8.3"
  }
 },
 "nbformat": 4,
 "nbformat_minor": 5
}
