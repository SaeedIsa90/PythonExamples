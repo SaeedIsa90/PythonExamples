{
 "cells": [
  {
   "cell_type": "markdown",
   "metadata": {},
   "source": [
    "# Headers\n",
    "***"
   ]
  },
  {
   "cell_type": "markdown",
   "metadata": {},
   "source": [
    "# Header1"
   ]
  },
  {
   "cell_type": "markdown",
   "metadata": {},
   "source": [
    "## Header2"
   ]
  },
  {
   "cell_type": "markdown",
   "metadata": {},
   "source": [
    "### Header3"
   ]
  },
  {
   "cell_type": "markdown",
   "metadata": {},
   "source": [
    "#### Header4"
   ]
  },
  {
   "cell_type": "markdown",
   "metadata": {},
   "source": [
    "##### Header5"
   ]
  },
  {
   "cell_type": "markdown",
   "metadata": {},
   "source": [
    "###### Header6"
   ]
  },
  {
   "cell_type": "markdown",
   "metadata": {},
   "source": [
    "nomral text"
   ]
  },
  {
   "cell_type": "markdown",
   "metadata": {},
   "source": [
    "***\n",
    "# Text styling\n",
    "---"
   ]
  },
  {
   "cell_type": "markdown",
   "metadata": {},
   "source": [
    "### Bolding\n",
    "Bolding is done by surrounding the word/line with  ** or __ : \n",
    "\n",
    "**Bolding this asterisk**\n",
    "\n",
    "__Bolding using underscore__"
   ]
  },
  {
   "cell_type": "markdown",
   "metadata": {},
   "source": [
    "### Italic\n",
    "\n",
    "Italic is done by surrounding the word/line with  * or _ : \n",
    "\n",
    "*Italic with one asterisk*\n",
    "\n",
    "_Italic with underscore_"
   ]
  },
  {
   "cell_type": "markdown",
   "metadata": {},
   "source": [
    "### Italic and Bold\n",
    "surrounding with 3 * or 3 _ ==>  ***Example***"
   ]
  },
  {
   "cell_type": "markdown",
   "metadata": {},
   "source": [
    "### STRIKETHROUGH\n",
    "surrounding with 2 ~ : ~~example~~"
   ]
  },
  {
   "cell_type": "markdown",
   "metadata": {},
   "source": [
    "### Break line\n",
    "Use \\<br> to break the line like this one <br> everything here will be next line <br> and new line here"
   ]
  },
  {
   "cell_type": "markdown",
   "metadata": {},
   "source": [
    "*** \n",
    "# Block quating\n",
    "***"
   ]
  },
  {
   "cell_type": "markdown",
   "metadata": {},
   "source": [
    "### BLOCK Quate\n",
    "use > to start writing code\n",
    "> this is some text for block quate\n",
    "\n",
    "> The second line of quate <br>\n",
    "> final line"
   ]
  },
  {
   "cell_type": "markdown",
   "metadata": {},
   "source": [
    "### Nested Block quates\n",
    "use > multiple times for each internal block\n",
    "> first blcok quate \n",
    ">> This is nested block quate\n",
    ">>> Third nested block quate\n",
    ">>>> Ooo! this is the fourth!!!"
   ]
  },
  {
   "cell_type": "markdown",
   "metadata": {},
   "source": [
    "use > multiple times for each internal block and enter between 2 lines to separate\n",
    "\n",
    "> first blcok quate \n",
    "\n",
    ">> This is nested block quate\n",
    "\n",
    ">>> Third nested block quate\n",
    "\n",
    ">>>> Ooo! this is the fourth!!!"
   ]
  },
  {
   "cell_type": "markdown",
   "metadata": {},
   "source": [
    "*** \n",
    "# Split lines\n",
    "***"
   ]
  },
  {
   "cell_type": "markdown",
   "metadata": {},
   "source": [
    "Splitting is by using 3 * or 3 - or 3 _\n",
    "\n",
    "***\n",
    "___\n",
    "\n",
    "---"
   ]
  },
  {
   "cell_type": "markdown",
   "metadata": {},
   "source": [
    "***\n",
    "# List \n",
    "### 1. Ordered and Unordered\n",
    "### 2. Tasks list\n",
    "***"
   ]
  },
  {
   "cell_type": "markdown",
   "metadata": {},
   "source": [
    "### Ordered list\n",
    "use number and .\n",
    "1. item1\n",
    "2. item2\n",
    "3. item3\n",
    "4. ..."
   ]
  },
  {
   "cell_type": "markdown",
   "metadata": {},
   "source": [
    "### Unordered list\n",
    "use -\n",
    "- item1 \n",
    "- item2\n",
    "- item3\n",
    "- ..."
   ]
  },
  {
   "cell_type": "markdown",
   "metadata": {},
   "source": [
    "### Tasks list\n",
    "\n",
    "use -/number and \\[ \\]\n",
    "\n",
    "- [ ] task1\n",
    "- [x] task2\n",
    "- [ ] task3\n",
    "\n",
    "or \n",
    "\n",
    "1. [ ] task1\n",
    "2. [ ] task2\n",
    "3. [x] task3\n"
   ]
  },
  {
   "cell_type": "markdown",
   "metadata": {},
   "source": [
    "#### Sub-lists\n",
    "use \\<br>\n",
    "1. Item1 <br>\n",
    "a. sub-item1 1 <br>\n",
    "b. sub-item1 2 <br>\n",
    "c. sub-item1 3\n",
    "2. Item2"
   ]
  },
  {
   "cell_type": "markdown",
   "metadata": {},
   "source": [
    "***\n",
    "# Links\n",
    "***"
   ]
  },
  {
   "cell_type": "markdown",
   "metadata": {},
   "source": [
    "Add a link by using posting link\n",
    "\n",
    "https://www.anaconda.com/products/individual\n"
   ]
  },
  {
   "cell_type": "markdown",
   "metadata": {},
   "source": [
    "to **style** link add \\[something\\](link)\n",
    "\n",
    "[Anaconda downloads](https://www.anaconda.com/products/individual)"
   ]
  },
  {
   "cell_type": "markdown",
   "metadata": {},
   "source": [
    "***\n",
    "# Coding examples\n",
    "***"
   ]
  },
  {
   "cell_type": "markdown",
   "metadata": {},
   "source": [
    "Use single quate \\` and 3\\` as follows\n",
    "\n",
    "` some code example below`\n",
    "\n",
    "```\n",
    "import pandas as pd\n",
    "df = pd.DataFrame( <dictionary> )\n",
    "print(df.shape)\n",
    "```"
   ]
  },
  {
   "cell_type": "markdown",
   "metadata": {},
   "source": [
    "#### styling per programming language\n",
    "Put programming language after the first 3\\` for code styling\n",
    "\n",
    "`Some python code below`\n",
    "\n",
    "```python \n",
    "import pandas as pd\n",
    "df = pd.DataFrame( <dictionary> )\n",
    "print(df.shape)\n",
    "```"
   ]
  },
  {
   "cell_type": "markdown",
   "metadata": {},
   "source": [
    "***\n",
    "# Tables\n",
    "***"
   ]
  },
  {
   "cell_type": "markdown",
   "metadata": {},
   "source": [
    "use your styling capabilties :)\n",
    "\n",
    "|COLUMN1|COLUMN2|COLUMN3|\n",
    "|-------|-------|-------|\n",
    "|x      |y      |z      |\n",
    "| VAL   |  OK   | What! |\n",
    "| 1     | 2     | 7     |"
   ]
  },
  {
   "cell_type": "markdown",
   "metadata": {},
   "source": [
    "### Centering table \n",
    "for centered Use :-: <br>\n",
    "for left centered use —  or :- <br>\n",
    "for right centered use -: <br>\n",
    "\n",
    "\n",
    "|COLUMN1|COLUMN2|COLUMN3|\n",
    "| :---: | :---: | :---: |\n",
    "|x      |y      |z      |\n",
    "| VAL   |  OK   | What! |\n",
    "| 1     | 2     | 7     |\n",
    "\n",
    "|COLUMN1|COLUMN2|COLUMN3|\n",
    "| :--- | :--- | :--- |\n",
    "|x      |y      |z      |\n",
    "| VAL   |  OK   | What! |\n",
    "| 1     | 2     | 7     |\n",
    "\n",
    "|COLUMN1|COLUMN2|COLUMN3|\n",
    "|  ---: |  ---: |  ---: |\n",
    "|x      |y      |z      |\n",
    "| VAL   |  OK   | What! |\n",
    "| 1     | 2     | 7     |"
   ]
  },
  {
   "cell_type": "markdown",
   "metadata": {},
   "source": [
    "***\n",
    "# Image!!\n",
    "***"
   ]
  },
  {
   "cell_type": "markdown",
   "metadata": {},
   "source": [
    "![](watermark.png)"
   ]
  },
  {
   "cell_type": "markdown",
   "metadata": {},
   "source": [
    "![](styling.png)"
   ]
  },
  {
   "cell_type": "markdown",
   "metadata": {},
   "source": [
    "***\n",
    "# HTML tricks\n",
    "***"
   ]
  },
  {
   "cell_type": "markdown",
   "metadata": {},
   "source": [
    "### Text coloring\n",
    "\n",
    "The next text is <span style=\"color:red\"> **red** </span> using html tags\n",
    "\n",
    "or <span style=\"color:blue\"> blue </span>\n",
    "\n",
    "or <span style=\"color:green\"> ***green*** </span>\n",
    "\n",
    "or <span style=\"color:pink\"> ***pink*** </span>\n",
    "\n",
    "or <span style=\"color:yellow\"> ***yellow*** </span>\n",
    "\n"
   ]
  },
  {
   "cell_type": "markdown",
   "metadata": {},
   "source": [
    "### Text font family\n",
    "\n",
    "Changing font family <span style=\"font-family:Comic Sans MS\"> ***I'M learning newww thingggssssss*** </span>\n",
    "\n"
   ]
  },
  {
   "cell_type": "markdown",
   "metadata": {},
   "source": [
    "***\n",
    "# Cell styling\n",
    "***"
   ]
  },
  {
   "cell_type": "markdown",
   "metadata": {},
   "source": [
    "<code style=\"background:blue;color:white\">Highlight this TEXT with blue background color and white text color</code>\n",
    "\n",
    "<code style=\"background:red;color:white\">Highlight this **text** with red background color and white text color</code>\n",
    "\n",
    "<code style=\"background:black;color:yellow;font-family:Comic Sans MS\">Highlight this *TEXT* with black background color and yellow text color <br> and nice font family text</code>\n"
   ]
  },
  {
   "cell_type": "markdown",
   "metadata": {},
   "source": [
    "### Alert boxes"
   ]
  },
  {
   "cell_type": "markdown",
   "metadata": {},
   "source": [
    "### Success --> Green\n",
    "\n",
    "<div class=\"alert alert-block alert-success\">\n",
    "Green box means success/good things will happen/happened/happens\n",
    "</div>\n"
   ]
  },
  {
   "cell_type": "markdown",
   "metadata": {},
   "source": [
    "### Fail/Error/Danger --> Red\n",
    "\n",
    "<div class=\"alert alert-block alert-danger\">\n",
    "Red box means something failed :( or DANGER!!! or Error \n",
    "</div>"
   ]
  },
  {
   "cell_type": "markdown",
   "metadata": {},
   "source": [
    "### Warning/Note --> Yellow\n",
    "\n",
    "<div class=\"alert alert-block alert-warning\">\n",
    "Please note! or check this warning\n",
    "</div>"
   ]
  },
  {
   "cell_type": "markdown",
   "metadata": {},
   "source": [
    "### information/calm down --> blue\n",
    "\n",
    "<div class=\"alert alert-block alert-info\">\n",
    "This color is nice to calm down or for information\n",
    "</div>"
   ]
  }
 ],
 "metadata": {
  "kernelspec": {
   "display_name": "Python 3",
   "language": "python",
   "name": "python3"
  },
  "language_info": {
   "codemirror_mode": {
    "name": "ipython",
    "version": 3
   },
   "file_extension": ".py",
   "mimetype": "text/x-python",
   "name": "python",
   "nbconvert_exporter": "python",
   "pygments_lexer": "ipython3",
   "version": "3.8.3"
  }
 },
 "nbformat": 4,
 "nbformat_minor": 4
}
