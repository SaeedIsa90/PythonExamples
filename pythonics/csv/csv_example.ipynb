{
 "cells": [
  {
   "cell_type": "markdown",
   "id": "prospective-surge",
   "metadata": {},
   "source": [
    "# Read & Write CSV files"
   ]
  },
  {
   "cell_type": "markdown",
   "id": "diverse-organization",
   "metadata": {},
   "source": [
    "### Two ways\n",
    "* pandas\n",
    "* csv library"
   ]
  },
  {
   "cell_type": "markdown",
   "id": "historical-hands",
   "metadata": {},
   "source": [
    "#### Pandas"
   ]
  },
  {
   "cell_type": "code",
   "execution_count": 1,
   "id": "referenced-helicopter",
   "metadata": {},
   "outputs": [
    {
     "data": {
      "text/html": [
       "<div>\n",
       "<style scoped>\n",
       "    .dataframe tbody tr th:only-of-type {\n",
       "        vertical-align: middle;\n",
       "    }\n",
       "\n",
       "    .dataframe tbody tr th {\n",
       "        vertical-align: top;\n",
       "    }\n",
       "\n",
       "    .dataframe thead th {\n",
       "        text-align: right;\n",
       "    }\n",
       "</style>\n",
       "<table border=\"1\" class=\"dataframe\">\n",
       "  <thead>\n",
       "    <tr style=\"text-align: right;\">\n",
       "      <th></th>\n",
       "      <th>First Name</th>\n",
       "      <th>Last Name</th>\n",
       "      <th>Age</th>\n",
       "      <th>Grade</th>\n",
       "      <th>Address</th>\n",
       "    </tr>\n",
       "  </thead>\n",
       "  <tbody>\n",
       "    <tr>\n",
       "      <th>0</th>\n",
       "      <td>Saeed</td>\n",
       "      <td>Isa</td>\n",
       "      <td>30</td>\n",
       "      <td>100</td>\n",
       "      <td>Haifa</td>\n",
       "    </tr>\n",
       "    <tr>\n",
       "      <th>1</th>\n",
       "      <td>Salam</td>\n",
       "      <td>Khatib-Isa</td>\n",
       "      <td>10</td>\n",
       "      <td>60</td>\n",
       "      <td>Baghdad</td>\n",
       "    </tr>\n",
       "    <tr>\n",
       "      <th>2</th>\n",
       "      <td>Nasim</td>\n",
       "      <td>Ali</td>\n",
       "      <td>60</td>\n",
       "      <td>98</td>\n",
       "      <td>Qahera</td>\n",
       "    </tr>\n",
       "    <tr>\n",
       "      <th>3</th>\n",
       "      <td>Ahmad</td>\n",
       "      <td>Manna</td>\n",
       "      <td>32</td>\n",
       "      <td>88</td>\n",
       "      <td>Tunis</td>\n",
       "    </tr>\n",
       "    <tr>\n",
       "      <th>4</th>\n",
       "      <td>Rabi</td>\n",
       "      <td>Sabi</td>\n",
       "      <td>40</td>\n",
       "      <td>65</td>\n",
       "      <td>Italy</td>\n",
       "    </tr>\n",
       "  </tbody>\n",
       "</table>\n",
       "</div>"
      ],
      "text/plain": [
       "  First Name    Last Name   Age   Grade   Address\n",
       "0      Saeed          Isa    30     100     Haifa\n",
       "1      Salam   Khatib-Isa    10      60   Baghdad\n",
       "2      Nasim          Ali    60      98    Qahera\n",
       "3      Ahmad        Manna    32      88     Tunis\n",
       "4       Rabi         Sabi    40      65     Italy"
      ]
     },
     "execution_count": 1,
     "metadata": {},
     "output_type": "execute_result"
    }
   ],
   "source": [
    "# Read CSV file\n",
    "import pandas as pd\n",
    "df = pd.read_csv(\"data.csv\")\n",
    "df"
   ]
  },
  {
   "cell_type": "markdown",
   "id": "animated-import",
   "metadata": {},
   "source": [
    "https://youtu.be/f4e8v1NRdHs"
   ]
  },
  {
   "cell_type": "code",
   "execution_count": 2,
   "id": "plastic-wilderness",
   "metadata": {},
   "outputs": [
    {
     "data": {
      "text/html": [
       "<div>\n",
       "<style scoped>\n",
       "    .dataframe tbody tr th:only-of-type {\n",
       "        vertical-align: middle;\n",
       "    }\n",
       "\n",
       "    .dataframe tbody tr th {\n",
       "        vertical-align: top;\n",
       "    }\n",
       "\n",
       "    .dataframe thead th {\n",
       "        text-align: right;\n",
       "    }\n",
       "</style>\n",
       "<table border=\"1\" class=\"dataframe\">\n",
       "  <thead>\n",
       "    <tr style=\"text-align: right;\">\n",
       "      <th></th>\n",
       "      <th>FirstName</th>\n",
       "      <th>LastName</th>\n",
       "      <th>Age</th>\n",
       "    </tr>\n",
       "  </thead>\n",
       "  <tbody>\n",
       "    <tr>\n",
       "      <th>0</th>\n",
       "      <td>Layan</td>\n",
       "      <td>Haj</td>\n",
       "      <td>20</td>\n",
       "    </tr>\n",
       "    <tr>\n",
       "      <th>1</th>\n",
       "      <td>Muhammed</td>\n",
       "      <td>Khalaily</td>\n",
       "      <td>50</td>\n",
       "    </tr>\n",
       "    <tr>\n",
       "      <th>2</th>\n",
       "      <td>Shdwan</td>\n",
       "      <td>Kriem</td>\n",
       "      <td>33</td>\n",
       "    </tr>\n",
       "  </tbody>\n",
       "</table>\n",
       "</div>"
      ],
      "text/plain": [
       "  FirstName  LastName  Age\n",
       "0     Layan       Haj   20\n",
       "1  Muhammed  Khalaily   50\n",
       "2    Shdwan     Kriem   33"
      ]
     },
     "execution_count": 2,
     "metadata": {},
     "output_type": "execute_result"
    }
   ],
   "source": [
    "# Writing csv\n",
    "data = [['Layan', 'Haj', 20], ['Muhammed', 'Khalaily', 50], ['Shdwan', 'Kriem', 33]]\n",
    "df2 = pd.DataFrame(data=data, columns=['FirstName', 'LastName', 'Age'])\n",
    "df2"
   ]
  },
  {
   "cell_type": "code",
   "execution_count": 3,
   "id": "animal-frost",
   "metadata": {},
   "outputs": [],
   "source": [
    "df2.to_csv('data2.csv', index=False)"
   ]
  },
  {
   "cell_type": "markdown",
   "id": "modern-dublin",
   "metadata": {},
   "source": [
    "#### CSV library"
   ]
  },
  {
   "cell_type": "code",
   "execution_count": 4,
   "id": "common-economy",
   "metadata": {},
   "outputs": [],
   "source": [
    "import csv"
   ]
  },
  {
   "cell_type": "code",
   "execution_count": 5,
   "id": "green-bristol",
   "metadata": {},
   "outputs": [
    {
     "name": "stdout",
     "output_type": "stream",
     "text": [
      "['First Name', ' Last Name', ' Age', ' Grade', ' Address']\n",
      "['Saeed', ' Isa', ' 30', ' 100', ' Haifa']\n",
      "['Salam', ' Khatib-Isa', ' 10', ' 60', ' Baghdad']\n",
      "['Nasim', ' Ali', ' 60', ' 98', ' Qahera']\n",
      "['Ahmad', ' Manna', ' 32', ' 88', ' Tunis']\n",
      "['Rabi', ' Sabi', ' 40', ' 65', ' Italy']\n"
     ]
    }
   ],
   "source": [
    "# Each line is list\n",
    "with open('data.csv', 'r') as fd:\n",
    "    csv_reader = csv.reader(fd)\n",
    "    for r in csv_reader:\n",
    "        print(r)"
   ]
  },
  {
   "cell_type": "code",
   "execution_count": 6,
   "id": "associate-determination",
   "metadata": {},
   "outputs": [],
   "source": [
    "# How can we check the header ?"
   ]
  },
  {
   "cell_type": "code",
   "execution_count": 8,
   "id": "printable-juice",
   "metadata": {},
   "outputs": [
    {
     "name": "stdout",
     "output_type": "stream",
     "text": [
      "header: ['First Name', ' Last Name', ' Age', ' Grade', ' Address']\n",
      "data: ['Saeed', ' Isa', ' 30', ' 100', ' Haifa']\n",
      "data: ['Salam', ' Khatib-Isa', ' 10', ' 60', ' Baghdad']\n",
      "data: ['Nasim', ' Ali', ' 60', ' 98', ' Qahera']\n",
      "data: ['Ahmad', ' Manna', ' 32', ' 88', ' Tunis']\n",
      "data: ['Rabi', ' Sabi', ' 40', ' 65', ' Italy']\n"
     ]
    }
   ],
   "source": [
    "# Each line is list\n",
    "with open('data.csv', 'r') as fd:\n",
    "    csv_reader = csv.reader(fd)\n",
    "    for i, r in enumerate(csv_reader):\n",
    "        if i == 0:\n",
    "            print('header:', r)\n",
    "        else:\n",
    "            print('data:', r)"
   ]
  },
  {
   "cell_type": "code",
   "execution_count": 9,
   "id": "worse-programmer",
   "metadata": {},
   "outputs": [
    {
     "name": "stdout",
     "output_type": "stream",
     "text": [
      "{'First Name': 'Saeed', ' Last Name': ' Isa', ' Age': ' 30', ' Grade': ' 100', ' Address': ' Haifa'}\n",
      "{'First Name': 'Salam', ' Last Name': ' Khatib-Isa', ' Age': ' 10', ' Grade': ' 60', ' Address': ' Baghdad'}\n",
      "{'First Name': 'Nasim', ' Last Name': ' Ali', ' Age': ' 60', ' Grade': ' 98', ' Address': ' Qahera'}\n",
      "{'First Name': 'Ahmad', ' Last Name': ' Manna', ' Age': ' 32', ' Grade': ' 88', ' Address': ' Tunis'}\n",
      "{'First Name': 'Rabi', ' Last Name': ' Sabi', ' Age': ' 40', ' Grade': ' 65', ' Address': ' Italy'}\n"
     ]
    }
   ],
   "source": [
    "# Each line is dictionary\n",
    "with open('data.csv', 'r') as fd:\n",
    "    csv_reader = csv.DictReader(fd)\n",
    "    for r in csv_reader:\n",
    "        print(r)"
   ]
  },
  {
   "cell_type": "code",
   "execution_count": 10,
   "id": "sudden-railway",
   "metadata": {},
   "outputs": [],
   "source": [
    "# Writing csv\n",
    "with open('data3.csv', 'w') as fd:\n",
    "    csv_writer = csv.writer(fd)\n",
    "    csv_writer.writerow(['Full Name', 'Day', 'Month'])\n",
    "    csv_writer.writerow(['Saeed Isa', 15, 'July'])\n",
    "    csv_writer.writerow(['Salam Isa-Khatib', 6, 'Feb'])"
   ]
  }
 ],
 "metadata": {
  "kernelspec": {
   "display_name": "Python 3",
   "language": "python",
   "name": "python3"
  },
  "language_info": {
   "codemirror_mode": {
    "name": "ipython",
    "version": 3
   },
   "file_extension": ".py",
   "mimetype": "text/x-python",
   "name": "python",
   "nbconvert_exporter": "python",
   "pygments_lexer": "ipython3",
   "version": "3.8.3"
  }
 },
 "nbformat": 4,
 "nbformat_minor": 5
}
