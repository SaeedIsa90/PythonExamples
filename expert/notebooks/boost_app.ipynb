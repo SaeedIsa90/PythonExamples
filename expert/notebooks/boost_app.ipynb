{
 "cells": [
  {
   "cell_type": "markdown",
   "id": "4c5b4b0e-7e9c-4f84-891a-20d9e478a048",
   "metadata": {
    "tags": []
   },
   "source": [
    "## Built in functions"
   ]
  },
  {
   "cell_type": "code",
   "execution_count": 1,
   "id": "157c1ad6-b8c1-42d4-ae7f-469ea0d46d49",
   "metadata": {
    "tags": []
   },
   "outputs": [],
   "source": [
    "def my_sum(lst):\n",
    "    lst_sum = 0\n",
    "    for item in lst:\n",
    "        lst_sum += item\n",
    "    return lst_sum"
   ]
  },
  {
   "cell_type": "code",
   "execution_count": 2,
   "id": "09fd4412-08a8-485a-a3f5-20daf4ffd485",
   "metadata": {
    "tags": []
   },
   "outputs": [],
   "source": [
    "my_lst = [10] * 100"
   ]
  },
  {
   "cell_type": "code",
   "execution_count": 3,
   "id": "5854811d-ea92-4190-8dea-16a12d222460",
   "metadata": {},
   "outputs": [
    {
     "name": "stdout",
     "output_type": "stream",
     "text": [
      "1.91 µs ± 5.27 ns per loop (mean ± std. dev. of 7 runs, 1,000,000 loops each)\n"
     ]
    }
   ],
   "source": [
    "%timeit my_sum(my_lst)"
   ]
  },
  {
   "cell_type": "code",
   "execution_count": 4,
   "id": "f1668eb8-30c1-4210-a0e2-9bc214e3a74f",
   "metadata": {},
   "outputs": [
    {
     "name": "stdout",
     "output_type": "stream",
     "text": [
      "345 ns ± 2.09 ns per loop (mean ± std. dev. of 7 runs, 1,000,000 loops each)\n"
     ]
    }
   ],
   "source": [
    "%timeit sum(my_lst)"
   ]
  },
  {
   "cell_type": "code",
   "execution_count": 5,
   "id": "c3c04347-8b30-4932-916f-20c8a9abb4b8",
   "metadata": {},
   "outputs": [
    {
     "data": {
      "text/plain": [
       "0.1806282722513089"
      ]
     },
     "execution_count": 5,
     "metadata": {},
     "output_type": "execute_result"
    }
   ],
   "source": [
    "345/1910"
   ]
  },
  {
   "cell_type": "code",
   "execution_count": 6,
   "id": "748a5a4d-0651-4df1-914e-72a547623dda",
   "metadata": {
    "tags": []
   },
   "outputs": [],
   "source": [
    "def my_max(lst):\n",
    "    lst_max = 0\n",
    "    for item in lst:\n",
    "        if item > lst_max:\n",
    "            lst_max = item\n",
    "    return lst_max"
   ]
  },
  {
   "cell_type": "code",
   "execution_count": 7,
   "id": "b527690c-2766-4006-9a50-d25d03160441",
   "metadata": {
    "tags": []
   },
   "outputs": [],
   "source": [
    "from random import randint\n",
    "my_lst = [randint(1, 500) for i in range(100)]"
   ]
  },
  {
   "cell_type": "code",
   "execution_count": 8,
   "id": "b0c229ae-e6ec-4e6b-8e95-26642011ce35",
   "metadata": {},
   "outputs": [
    {
     "name": "stdout",
     "output_type": "stream",
     "text": [
      "1.26 µs ± 5.15 ns per loop (mean ± std. dev. of 7 runs, 1,000,000 loops each)\n"
     ]
    }
   ],
   "source": [
    "%timeit my_max(my_lst)"
   ]
  },
  {
   "cell_type": "code",
   "execution_count": 9,
   "id": "78730e11-6383-430e-a216-98129b441280",
   "metadata": {},
   "outputs": [
    {
     "name": "stdout",
     "output_type": "stream",
     "text": [
      "533 ns ± 2.58 ns per loop (mean ± std. dev. of 7 runs, 1,000,000 loops each)\n"
     ]
    }
   ],
   "source": [
    "%timeit max(my_lst)"
   ]
  },
  {
   "cell_type": "code",
   "execution_count": 10,
   "id": "9de583c8-0002-4eb5-9295-5b18b0662100",
   "metadata": {},
   "outputs": [
    {
     "data": {
      "text/plain": [
       "0.423015873015873"
      ]
     },
     "execution_count": 10,
     "metadata": {},
     "output_type": "execute_result"
    }
   ],
   "source": [
    "533/1260"
   ]
  },
  {
   "cell_type": "markdown",
   "id": "239e776e-d7b9-4f13-9dc8-a2f441e30fc5",
   "metadata": {
    "tags": []
   },
   "source": [
    "## Local caching"
   ]
  },
  {
   "cell_type": "code",
   "execution_count": 11,
   "id": "140c9410-f93e-4ed6-b72d-544853fbce05",
   "metadata": {},
   "outputs": [],
   "source": [
    "class Rectangle:\n",
    "    def __init__(self):\n",
    "        self.width = 10\n",
    "        self.height = 20\n",
    "        \n",
    "rec = Rectangle()"
   ]
  },
  {
   "cell_type": "code",
   "execution_count": 12,
   "id": "7076963f-1cdf-4b12-a8ff-6c8b079bce29",
   "metadata": {},
   "outputs": [],
   "source": [
    "def calc_fun(rec):\n",
    "    s = 0\n",
    "    for i in range(1000):\n",
    "        s = s + (rec.width + rec.height)\n",
    "    return s"
   ]
  },
  {
   "cell_type": "code",
   "execution_count": 13,
   "id": "91fe09c7-e52a-4f38-ae21-e4094531ca7a",
   "metadata": {},
   "outputs": [
    {
     "name": "stdout",
     "output_type": "stream",
     "text": [
      "41.7 µs ± 193 ns per loop (mean ± std. dev. of 7 runs, 10,000 loops each)\n"
     ]
    }
   ],
   "source": [
    "%timeit calc_fun(rec)"
   ]
  },
  {
   "cell_type": "code",
   "execution_count": 14,
   "id": "24242c1d-7a2e-4169-a636-a41dcd803be8",
   "metadata": {
    "tags": []
   },
   "outputs": [],
   "source": [
    "def calc_fun_eff(rec):\n",
    "    s = 1\n",
    "    width = rec.width\n",
    "    height = rec.height\n",
    "    for i in range(1000):\n",
    "        s = s + (width + height)\n",
    "    return s"
   ]
  },
  {
   "cell_type": "code",
   "execution_count": 15,
   "id": "4ab06101-b814-484c-a113-edd4fa1b6974",
   "metadata": {},
   "outputs": [
    {
     "name": "stdout",
     "output_type": "stream",
     "text": [
      "28.6 µs ± 191 ns per loop (mean ± std. dev. of 7 runs, 10,000 loops each)\n"
     ]
    }
   ],
   "source": [
    "%timeit calc_fun_eff(rec)"
   ]
  },
  {
   "cell_type": "code",
   "execution_count": 16,
   "id": "71b472a2-a35b-4a63-8bb3-4a6e8e946fab",
   "metadata": {},
   "outputs": [
    {
     "data": {
      "text/plain": [
       "0.6858513189448441"
      ]
     },
     "execution_count": 16,
     "metadata": {},
     "output_type": "execute_result"
    }
   ],
   "source": [
    "28.6/41.7"
   ]
  },
  {
   "cell_type": "markdown",
   "id": "eedce670-e847-45d8-9d89-4b7d75d635ba",
   "metadata": {
    "tags": []
   },
   "source": [
    "## Redundant function calls"
   ]
  },
  {
   "cell_type": "code",
   "execution_count": 20,
   "id": "57f86a4c-1ea5-4874-810c-333ef5f22ef8",
   "metadata": {},
   "outputs": [],
   "source": [
    "class Person:\n",
    "    def __init__(self):\n",
    "        self._name = 'saeed'\n",
    "        self.full_name = 'saeed'\n",
    "    \n",
    "    @property\n",
    "    def name(self):\n",
    "        return self._name\n",
    "    \n",
    "    @name.setter\n",
    "    def name(self, value):\n",
    "        self._name = value\n",
    "\n",
    "p = Person()"
   ]
  },
  {
   "cell_type": "code",
   "execution_count": 18,
   "id": "f43f6d30-b7af-4b76-b89f-e6d02412fe81",
   "metadata": {},
   "outputs": [
    {
     "name": "stdout",
     "output_type": "stream",
     "text": [
      "43.5 ns ± 0.281 ns per loop (mean ± std. dev. of 7 runs, 10,000,000 loops each)\n"
     ]
    }
   ],
   "source": [
    "%timeit p.name"
   ]
  },
  {
   "cell_type": "code",
   "execution_count": 19,
   "id": "e5537a11-82d4-43ea-9300-652e581a8f14",
   "metadata": {},
   "outputs": [
    {
     "name": "stdout",
     "output_type": "stream",
     "text": [
      "55.4 ns ± 0.302 ns per loop (mean ± std. dev. of 7 runs, 10,000,000 loops each)\n"
     ]
    }
   ],
   "source": [
    "%timeit p.name = 'saeed saeed'"
   ]
  },
  {
   "cell_type": "code",
   "execution_count": 21,
   "id": "65306737-1a26-44f7-8a81-d081e3571bd4",
   "metadata": {},
   "outputs": [
    {
     "name": "stdout",
     "output_type": "stream",
     "text": [
      "20 ns ± 0.0898 ns per loop (mean ± std. dev. of 7 runs, 100,000,000 loops each)\n"
     ]
    }
   ],
   "source": [
    "%timeit p.full_name"
   ]
  },
  {
   "cell_type": "code",
   "execution_count": 22,
   "id": "6c225872-c8a7-466c-a197-59ebe508d56a",
   "metadata": {},
   "outputs": [
    {
     "name": "stdout",
     "output_type": "stream",
     "text": [
      "21.9 ns ± 0.139 ns per loop (mean ± std. dev. of 7 runs, 10,000,000 loops each)\n"
     ]
    }
   ],
   "source": [
    "%timeit p.full_name = 'saeed saeed'"
   ]
  }
 ],
 "metadata": {
  "kernelspec": {
   "display_name": "Python 3 (ipykernel)",
   "language": "python",
   "name": "python3"
  },
  "language_info": {
   "codemirror_mode": {
    "name": "ipython",
    "version": 3
   },
   "file_extension": ".py",
   "mimetype": "text/x-python",
   "name": "python",
   "nbconvert_exporter": "python",
   "pygments_lexer": "ipython3",
   "version": "3.9.12"
  }
 },
 "nbformat": 4,
 "nbformat_minor": 5
}
